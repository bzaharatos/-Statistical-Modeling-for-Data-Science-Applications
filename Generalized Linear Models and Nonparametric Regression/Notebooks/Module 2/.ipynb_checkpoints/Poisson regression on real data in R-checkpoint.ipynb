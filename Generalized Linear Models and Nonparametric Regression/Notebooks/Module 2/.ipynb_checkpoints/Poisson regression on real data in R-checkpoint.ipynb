{
 "cells": [
  {
   "cell_type": "markdown",
   "metadata": {},
   "source": [
    "## Poisson regression on real data in R\n",
    "\n",
    "\n",
    "In this lesson, we will analyze real data using the Poisson regression model. A video will accompany this notebook.\n",
    "\n",
    "The goal of the `bike` data is to keep count of cyclists entering and leaving Queens, Manhattan and Brooklyn via the East River Bridges. The Traffic Information Management System (TIMS) collected this count data for several months during 2017. Each record represents the total number of cyclists per 24 hours at Brooklyn Bridge, Manhattan Bridge, Williamsburg Bridge, and Queensboro Bridge. Also included in the dataset are date and temperature imformation.\n",
    "\n",
    "Column Name\tand Column Description\n",
    "\n",
    "1. `date`: Date the count was conducted\n",
    "\n",
    "\n",
    "2. `day`: Day of the week the count was conducted\n",
    "\n",
    "\n",
    "3. `temp_h`: The high temperature for that day in fahrenheit\n",
    "\n",
    "\n",
    "4. `temp_l`:\tThe low temperature for that night in fahrenheit\n",
    "\n",
    "\n",
    "5. `precip`:\tThe amount of precipitation for that day in inches\n",
    "\n",
    "\n",
    "6. `bb`: Total number of cyclist counts at Brooklyn Bridge in a 24 hour period\n",
    "\n",
    "\n",
    "7. `mb`: Total number of cyclist counts at Manhattan Bridge in a 24 hour period\n",
    "\n",
    "\n",
    "8. `wb`: Total number of cyclist counts at Williamburg Bridge in a 24 hour period\n",
    "\n",
    "\n",
    "9. `qb`:\tTotal number of cyclist counts at Queensboro Bridge in a 24 hour period\n",
    "\n",
    "\n",
    "10. `total`: The number of cyclist counts for all the East River Bridges combined in a 24 hour period\n",
    "\n",
    "**Our goal will be to try to use the weather data to explain the total number of cyclists on the Manhattan Bridge on any given day.**\n",
    "\n",
    "First, we'll load the data into R using the `RCurl` package's `getURL()` function:"
   ]
  },
  {
   "cell_type": "code",
   "execution_count": 1,
   "metadata": {},
   "outputs": [
    {
     "name": "stderr",
     "output_type": "stream",
     "text": [
      "\n",
      "Attaching package: ‘lubridate’\n",
      "\n",
      "The following object is masked from ‘package:base’:\n",
      "\n",
      "    date\n",
      "\n",
      "Loading required package: bitops\n",
      "Registered S3 methods overwritten by 'ggplot2':\n",
      "  method         from \n",
      "  [.quosures     rlang\n",
      "  c.quosures     rlang\n",
      "  print.quosures rlang\n",
      "Registered S3 method overwritten by 'rvest':\n",
      "  method            from\n",
      "  read_xml.response xml2\n",
      "── Attaching packages ─────────────────────────────────────── tidyverse 1.2.1 ──\n",
      "✔ ggplot2 3.1.1       ✔ purrr   0.3.2  \n",
      "✔ tibble  2.1.1       ✔ dplyr   0.8.0.1\n",
      "✔ tidyr   0.8.3       ✔ stringr 1.4.0  \n",
      "✔ readr   1.3.1       ✔ forcats 0.4.0  \n",
      "── Conflicts ────────────────────────────────────────── tidyverse_conflicts() ──\n",
      "✖ lubridate::as.difftime() masks base::as.difftime()\n",
      "✖ tidyr::complete()        masks RCurl::complete()\n",
      "✖ lubridate::date()        masks base::date()\n",
      "✖ dplyr::filter()          masks stats::filter()\n",
      "✖ lubridate::intersect()   masks base::intersect()\n",
      "✖ dplyr::lag()             masks stats::lag()\n",
      "✖ lubridate::setdiff()     masks base::setdiff()\n",
      "✖ lubridate::union()       masks base::union()\n"
     ]
    },
    {
     "data": {
      "text/html": [
       "0"
      ],
      "text/latex": [
       "0"
      ],
      "text/markdown": [
       "0"
      ],
      "text/plain": [
       "[1] 0"
      ]
     },
     "metadata": {},
     "output_type": "display_data"
    },
    {
     "data": {
      "text/html": [
       "<table>\n",
       "<thead><tr><th scope=col>date</th><th scope=col>day</th><th scope=col>temp_h</th><th scope=col>temp_l</th><th scope=col>precip</th><th scope=col>bb</th><th scope=col>mb</th><th scope=col>wb</th><th scope=col>qb</th><th scope=col>total</th></tr></thead>\n",
       "<tbody>\n",
       "\t<tr><td>4/1      </td><td>Saturday </td><td>46.0     </td><td>37.0     </td><td>0.00     </td><td> 606     </td><td>1446     </td><td>1915     </td><td>1430     </td><td> 5397    </td></tr>\n",
       "\t<tr><td>4/2      </td><td>Sunday   </td><td>62.1     </td><td>41.0     </td><td>0.00     </td><td>2021     </td><td>3943     </td><td>4207     </td><td>2862     </td><td>13033    </td></tr>\n",
       "\t<tr><td>4/3      </td><td>Monday   </td><td>63.0     </td><td>50.0     </td><td>0.03     </td><td>2470     </td><td>4988     </td><td>5178     </td><td>3689     </td><td>16325    </td></tr>\n",
       "\t<tr><td>4/4      </td><td>Tuesday  </td><td>51.1     </td><td>46.0     </td><td>1.18     </td><td> 723     </td><td>1913     </td><td>2279     </td><td>1666     </td><td> 6581    </td></tr>\n",
       "\t<tr><td>4/5      </td><td>Wednesday</td><td>63.0     </td><td>46.0     </td><td>0.00     </td><td>2807     </td><td>5276     </td><td>5711     </td><td>4197     </td><td>17991    </td></tr>\n",
       "\t<tr><td>4/6      </td><td>Thursday </td><td>48.9     </td><td>41.0     </td><td>0.73     </td><td> 461     </td><td>1324     </td><td>1739     </td><td>1372     </td><td> 4896    </td></tr>\n",
       "\t<tr><td>4/7      </td><td>Friday   </td><td>48.0     </td><td>43.0     </td><td>T        </td><td>1222     </td><td>2955     </td><td>3399     </td><td>2765     </td><td>10341    </td></tr>\n",
       "\t<tr><td>4/8      </td><td>Saturday </td><td>55.9     </td><td>39.9     </td><td>0.00     </td><td>1674     </td><td>3163     </td><td>4082     </td><td>2691     </td><td>11610    </td></tr>\n",
       "\t<tr><td>4/9      </td><td>Sunday   </td><td>66.0     </td><td>45.0     </td><td>0.00     </td><td>2375     </td><td>4377     </td><td>4886     </td><td>3261     </td><td>14899    </td></tr>\n",
       "\t<tr><td>4/10     </td><td>Monday   </td><td>73.9     </td><td>55.0     </td><td>0.00     </td><td>3324     </td><td>6359     </td><td>6881     </td><td>4731     </td><td>21295    </td></tr>\n",
       "</tbody>\n",
       "</table>\n"
      ],
      "text/latex": [
       "\\begin{tabular}{r|llllllllll}\n",
       " date & day & temp\\_h & temp\\_l & precip & bb & mb & wb & qb & total\\\\\n",
       "\\hline\n",
       "\t 4/1       & Saturday  & 46.0      & 37.0      & 0.00      &  606      & 1446      & 1915      & 1430      &  5397    \\\\\n",
       "\t 4/2       & Sunday    & 62.1      & 41.0      & 0.00      & 2021      & 3943      & 4207      & 2862      & 13033    \\\\\n",
       "\t 4/3       & Monday    & 63.0      & 50.0      & 0.03      & 2470      & 4988      & 5178      & 3689      & 16325    \\\\\n",
       "\t 4/4       & Tuesday   & 51.1      & 46.0      & 1.18      &  723      & 1913      & 2279      & 1666      &  6581    \\\\\n",
       "\t 4/5       & Wednesday & 63.0      & 46.0      & 0.00      & 2807      & 5276      & 5711      & 4197      & 17991    \\\\\n",
       "\t 4/6       & Thursday  & 48.9      & 41.0      & 0.73      &  461      & 1324      & 1739      & 1372      &  4896    \\\\\n",
       "\t 4/7       & Friday    & 48.0      & 43.0      & T         & 1222      & 2955      & 3399      & 2765      & 10341    \\\\\n",
       "\t 4/8       & Saturday  & 55.9      & 39.9      & 0.00      & 1674      & 3163      & 4082      & 2691      & 11610    \\\\\n",
       "\t 4/9       & Sunday    & 66.0      & 45.0      & 0.00      & 2375      & 4377      & 4886      & 3261      & 14899    \\\\\n",
       "\t 4/10      & Monday    & 73.9      & 55.0      & 0.00      & 3324      & 6359      & 6881      & 4731      & 21295    \\\\\n",
       "\\end{tabular}\n"
      ],
      "text/markdown": [
       "\n",
       "| date | day | temp_h | temp_l | precip | bb | mb | wb | qb | total |\n",
       "|---|---|---|---|---|---|---|---|---|---|\n",
       "| 4/1       | Saturday  | 46.0      | 37.0      | 0.00      |  606      | 1446      | 1915      | 1430      |  5397     |\n",
       "| 4/2       | Sunday    | 62.1      | 41.0      | 0.00      | 2021      | 3943      | 4207      | 2862      | 13033     |\n",
       "| 4/3       | Monday    | 63.0      | 50.0      | 0.03      | 2470      | 4988      | 5178      | 3689      | 16325     |\n",
       "| 4/4       | Tuesday   | 51.1      | 46.0      | 1.18      |  723      | 1913      | 2279      | 1666      |  6581     |\n",
       "| 4/5       | Wednesday | 63.0      | 46.0      | 0.00      | 2807      | 5276      | 5711      | 4197      | 17991     |\n",
       "| 4/6       | Thursday  | 48.9      | 41.0      | 0.73      |  461      | 1324      | 1739      | 1372      |  4896     |\n",
       "| 4/7       | Friday    | 48.0      | 43.0      | T         | 1222      | 2955      | 3399      | 2765      | 10341     |\n",
       "| 4/8       | Saturday  | 55.9      | 39.9      | 0.00      | 1674      | 3163      | 4082      | 2691      | 11610     |\n",
       "| 4/9       | Sunday    | 66.0      | 45.0      | 0.00      | 2375      | 4377      | 4886      | 3261      | 14899     |\n",
       "| 4/10      | Monday    | 73.9      | 55.0      | 0.00      | 3324      | 6359      | 6881      | 4731      | 21295     |\n",
       "\n"
      ],
      "text/plain": [
       "   date day       temp_h temp_l precip bb   mb   wb   qb   total\n",
       "1  4/1  Saturday  46.0   37.0   0.00    606 1446 1915 1430  5397\n",
       "2  4/2  Sunday    62.1   41.0   0.00   2021 3943 4207 2862 13033\n",
       "3  4/3  Monday    63.0   50.0   0.03   2470 4988 5178 3689 16325\n",
       "4  4/4  Tuesday   51.1   46.0   1.18    723 1913 2279 1666  6581\n",
       "5  4/5  Wednesday 63.0   46.0   0.00   2807 5276 5711 4197 17991\n",
       "6  4/6  Thursday  48.9   41.0   0.73    461 1324 1739 1372  4896\n",
       "7  4/7  Friday    48.0   43.0   T      1222 2955 3399 2765 10341\n",
       "8  4/8  Saturday  55.9   39.9   0.00   1674 3163 4082 2691 11610\n",
       "9  4/9  Sunday    66.0   45.0   0.00   2375 4377 4886 3261 14899\n",
       "10 4/10 Monday    73.9   55.0   0.00   3324 6359 6881 4731 21295"
      ]
     },
     "metadata": {},
     "output_type": "display_data"
    }
   ],
   "source": [
    "#similar analysis https://towardsdatascience.com/an-illustrated-guide-to-the-poisson-regression-model-50cccba15958library(dplyr)\n",
    "library(lubridate) #for the ymd() function\n",
    "library(RCurl)\n",
    "library(tidyverse)\n",
    "\n",
    "#read in the data (paste0() allows for text wrapping)\n",
    "urlfile = paste0(\"https://raw.githubusercontent.com/bzaharatos/\",\n",
    "                \"-Statistical-Modeling-for-Data-Science-Applications/master/\",\n",
    "                 \"Generalized%20Linear%20Models%20and%20Nonparametric%20Regression/\",\n",
    "                 \"Datasets/2017%20Monthly%20Bike%20Count%20Totals%20for%20East%20River%20Bridges/bike.csv\")\n",
    "url = getURL(urlfile)\n",
    "#bike = na.omit(read.csv(text = url, sep = \",\", header = TRUE))\n",
    "bike = read.csv(text = url, sep = \",\", header = TRUE)\n",
    "\n",
    "#check for NA\n",
    "sum(is.na(bike$mb))\n",
    "\n",
    "head(bike, 10)"
   ]
  },
  {
   "cell_type": "markdown",
   "metadata": {},
   "source": [
    "Note: $T = $ trace precipitation. Let's think of trace precipitation as no precipitation for now..."
   ]
  },
  {
   "cell_type": "code",
   "execution_count": 2,
   "metadata": {},
   "outputs": [
    {
     "data": {
      "text/html": [
       "<table>\n",
       "<thead><tr><th scope=col>date</th><th scope=col>day</th><th scope=col>temp_h</th><th scope=col>temp_l</th><th scope=col>precip</th><th scope=col>bb</th><th scope=col>mb</th><th scope=col>wb</th><th scope=col>qb</th><th scope=col>total</th></tr></thead>\n",
       "<tbody>\n",
       "\t<tr><td>4/1      </td><td>Saturday </td><td>46.0     </td><td>37.0     </td><td>0.00     </td><td> 606     </td><td>1446     </td><td>1915     </td><td>1430     </td><td> 5397    </td></tr>\n",
       "\t<tr><td>4/2      </td><td>Sunday   </td><td>62.1     </td><td>41.0     </td><td>0.00     </td><td>2021     </td><td>3943     </td><td>4207     </td><td>2862     </td><td>13033    </td></tr>\n",
       "\t<tr><td>4/3      </td><td>Monday   </td><td>63.0     </td><td>50.0     </td><td>0.03     </td><td>2470     </td><td>4988     </td><td>5178     </td><td>3689     </td><td>16325    </td></tr>\n",
       "\t<tr><td>4/4      </td><td>Tuesday  </td><td>51.1     </td><td>46.0     </td><td>1.18     </td><td> 723     </td><td>1913     </td><td>2279     </td><td>1666     </td><td> 6581    </td></tr>\n",
       "\t<tr><td>4/5      </td><td>Wednesday</td><td>63.0     </td><td>46.0     </td><td>0.00     </td><td>2807     </td><td>5276     </td><td>5711     </td><td>4197     </td><td>17991    </td></tr>\n",
       "\t<tr><td>4/6      </td><td>Thursday </td><td>48.9     </td><td>41.0     </td><td>0.73     </td><td> 461     </td><td>1324     </td><td>1739     </td><td>1372     </td><td> 4896    </td></tr>\n",
       "\t<tr><td>4/7      </td><td>Friday   </td><td>48.0     </td><td>43.0     </td><td>0        </td><td>1222     </td><td>2955     </td><td>3399     </td><td>2765     </td><td>10341    </td></tr>\n",
       "\t<tr><td>4/8      </td><td>Saturday </td><td>55.9     </td><td>39.9     </td><td>0.00     </td><td>1674     </td><td>3163     </td><td>4082     </td><td>2691     </td><td>11610    </td></tr>\n",
       "\t<tr><td>4/9      </td><td>Sunday   </td><td>66.0     </td><td>45.0     </td><td>0.00     </td><td>2375     </td><td>4377     </td><td>4886     </td><td>3261     </td><td>14899    </td></tr>\n",
       "\t<tr><td>4/10     </td><td>Monday   </td><td>73.9     </td><td>55.0     </td><td>0.00     </td><td>3324     </td><td>6359     </td><td>6881     </td><td>4731     </td><td>21295    </td></tr>\n",
       "</tbody>\n",
       "</table>\n"
      ],
      "text/latex": [
       "\\begin{tabular}{r|llllllllll}\n",
       " date & day & temp\\_h & temp\\_l & precip & bb & mb & wb & qb & total\\\\\n",
       "\\hline\n",
       "\t 4/1       & Saturday  & 46.0      & 37.0      & 0.00      &  606      & 1446      & 1915      & 1430      &  5397    \\\\\n",
       "\t 4/2       & Sunday    & 62.1      & 41.0      & 0.00      & 2021      & 3943      & 4207      & 2862      & 13033    \\\\\n",
       "\t 4/3       & Monday    & 63.0      & 50.0      & 0.03      & 2470      & 4988      & 5178      & 3689      & 16325    \\\\\n",
       "\t 4/4       & Tuesday   & 51.1      & 46.0      & 1.18      &  723      & 1913      & 2279      & 1666      &  6581    \\\\\n",
       "\t 4/5       & Wednesday & 63.0      & 46.0      & 0.00      & 2807      & 5276      & 5711      & 4197      & 17991    \\\\\n",
       "\t 4/6       & Thursday  & 48.9      & 41.0      & 0.73      &  461      & 1324      & 1739      & 1372      &  4896    \\\\\n",
       "\t 4/7       & Friday    & 48.0      & 43.0      & 0         & 1222      & 2955      & 3399      & 2765      & 10341    \\\\\n",
       "\t 4/8       & Saturday  & 55.9      & 39.9      & 0.00      & 1674      & 3163      & 4082      & 2691      & 11610    \\\\\n",
       "\t 4/9       & Sunday    & 66.0      & 45.0      & 0.00      & 2375      & 4377      & 4886      & 3261      & 14899    \\\\\n",
       "\t 4/10      & Monday    & 73.9      & 55.0      & 0.00      & 3324      & 6359      & 6881      & 4731      & 21295    \\\\\n",
       "\\end{tabular}\n"
      ],
      "text/markdown": [
       "\n",
       "| date | day | temp_h | temp_l | precip | bb | mb | wb | qb | total |\n",
       "|---|---|---|---|---|---|---|---|---|---|\n",
       "| 4/1       | Saturday  | 46.0      | 37.0      | 0.00      |  606      | 1446      | 1915      | 1430      |  5397     |\n",
       "| 4/2       | Sunday    | 62.1      | 41.0      | 0.00      | 2021      | 3943      | 4207      | 2862      | 13033     |\n",
       "| 4/3       | Monday    | 63.0      | 50.0      | 0.03      | 2470      | 4988      | 5178      | 3689      | 16325     |\n",
       "| 4/4       | Tuesday   | 51.1      | 46.0      | 1.18      |  723      | 1913      | 2279      | 1666      |  6581     |\n",
       "| 4/5       | Wednesday | 63.0      | 46.0      | 0.00      | 2807      | 5276      | 5711      | 4197      | 17991     |\n",
       "| 4/6       | Thursday  | 48.9      | 41.0      | 0.73      |  461      | 1324      | 1739      | 1372      |  4896     |\n",
       "| 4/7       | Friday    | 48.0      | 43.0      | 0         | 1222      | 2955      | 3399      | 2765      | 10341     |\n",
       "| 4/8       | Saturday  | 55.9      | 39.9      | 0.00      | 1674      | 3163      | 4082      | 2691      | 11610     |\n",
       "| 4/9       | Sunday    | 66.0      | 45.0      | 0.00      | 2375      | 4377      | 4886      | 3261      | 14899     |\n",
       "| 4/10      | Monday    | 73.9      | 55.0      | 0.00      | 3324      | 6359      | 6881      | 4731      | 21295     |\n",
       "\n"
      ],
      "text/plain": [
       "   date day       temp_h temp_l precip bb   mb   wb   qb   total\n",
       "1  4/1  Saturday  46.0   37.0   0.00    606 1446 1915 1430  5397\n",
       "2  4/2  Sunday    62.1   41.0   0.00   2021 3943 4207 2862 13033\n",
       "3  4/3  Monday    63.0   50.0   0.03   2470 4988 5178 3689 16325\n",
       "4  4/4  Tuesday   51.1   46.0   1.18    723 1913 2279 1666  6581\n",
       "5  4/5  Wednesday 63.0   46.0   0.00   2807 5276 5711 4197 17991\n",
       "6  4/6  Thursday  48.9   41.0   0.73    461 1324 1739 1372  4896\n",
       "7  4/7  Friday    48.0   43.0   0      1222 2955 3399 2765 10341\n",
       "8  4/8  Saturday  55.9   39.9   0.00   1674 3163 4082 2691 11610\n",
       "9  4/9  Sunday    66.0   45.0   0.00   2375 4377 4886 3261 14899\n",
       "10 4/10 Monday    73.9   55.0   0.00   3324 6359 6881 4731 21295"
      ]
     },
     "metadata": {},
     "output_type": "display_data"
    },
    {
     "data": {
      "text/html": [
       "<dl class=dl-horizontal>\n",
       "\t<dt>date</dt>\n",
       "\t\t<dd>'factor'</dd>\n",
       "\t<dt>day</dt>\n",
       "\t\t<dd>'factor'</dd>\n",
       "\t<dt>temp_h</dt>\n",
       "\t\t<dd>'numeric'</dd>\n",
       "\t<dt>temp_l</dt>\n",
       "\t\t<dd>'numeric'</dd>\n",
       "\t<dt>precip</dt>\n",
       "\t\t<dd>'factor'</dd>\n",
       "\t<dt>bb</dt>\n",
       "\t\t<dd>'numeric'</dd>\n",
       "\t<dt>mb</dt>\n",
       "\t\t<dd>'numeric'</dd>\n",
       "\t<dt>wb</dt>\n",
       "\t\t<dd>'numeric'</dd>\n",
       "\t<dt>qb</dt>\n",
       "\t\t<dd>'numeric'</dd>\n",
       "\t<dt>total</dt>\n",
       "\t\t<dd>'numeric'</dd>\n",
       "</dl>\n"
      ],
      "text/latex": [
       "\\begin{description*}\n",
       "\\item[date] 'factor'\n",
       "\\item[day] 'factor'\n",
       "\\item[temp\\textbackslash{}\\_h] 'numeric'\n",
       "\\item[temp\\textbackslash{}\\_l] 'numeric'\n",
       "\\item[precip] 'factor'\n",
       "\\item[bb] 'numeric'\n",
       "\\item[mb] 'numeric'\n",
       "\\item[wb] 'numeric'\n",
       "\\item[qb] 'numeric'\n",
       "\\item[total] 'numeric'\n",
       "\\end{description*}\n"
      ],
      "text/markdown": [
       "date\n",
       ":   'factor'day\n",
       ":   'factor'temp_h\n",
       ":   'numeric'temp_l\n",
       ":   'numeric'precip\n",
       ":   'factor'bb\n",
       ":   'numeric'mb\n",
       ":   'numeric'wb\n",
       ":   'numeric'qb\n",
       ":   'numeric'total\n",
       ":   'numeric'\n",
       "\n"
      ],
      "text/plain": [
       "     date       day    temp_h    temp_l    precip        bb        mb        wb \n",
       " \"factor\"  \"factor\" \"numeric\" \"numeric\"  \"factor\" \"numeric\" \"numeric\" \"numeric\" \n",
       "       qb     total \n",
       "\"numeric\" \"numeric\" "
      ]
     },
     "metadata": {},
     "output_type": "display_data"
    }
   ],
   "source": [
    "#replace T for 0...\n",
    "bike = bike %>%\n",
    "    mutate(precip = fct_recode(precip, \"0\" = \"T\"))\n",
    "    #mutate(precip=replace(precip, precip== \"T\", NA))\n",
    "\n",
    "#check that trace precip is now zero\n",
    "head(bike, 10)\n",
    "#check data types\n",
    "sapply(bike, class)"
   ]
  },
  {
   "cell_type": "markdown",
   "metadata": {},
   "source": [
    "Notice that we'll need to do some additional data cleaning. In particular, many of the variables are being recognized as factors even though they shouldn't be (e.g., the bridge counts, and precip). Also, we can store the `date` variable as a date. "
   ]
  },
  {
   "cell_type": "code",
   "execution_count": 3,
   "metadata": {},
   "outputs": [
    {
     "data": {
      "text/plain": [
       "      date                   day         temp_h         temp_l     \n",
       " Min.   :2017-04-01   Friday   :30   Min.   :46.0   Min.   :37.00  \n",
       " 1st Qu.:2017-05-24   Monday   :31   1st Qu.:66.9   1st Qu.:55.23  \n",
       " Median :2017-07-16   Saturday :31   Median :75.9   Median :64.00  \n",
       " Mean   :2017-07-16   Sunday   :31   Mean   :74.2   Mean   :62.03  \n",
       " 3rd Qu.:2017-09-07   Thursday :30   3rd Qu.:82.0   3rd Qu.:70.00  \n",
       " Max.   :2017-10-31   Tuesday  :31   Max.   :93.9   Max.   :78.10  \n",
       "                      Wednesday:30                                 \n",
       "     precip             bb             mb             wb             qb      \n",
       " Min.   :0.0000   Min.   : 151   Min.   : 484   Min.   : 874   Min.   : 865  \n",
       " 1st Qu.:0.0000   1st Qu.:2298   1st Qu.:4308   1st Qu.:5115   1st Qu.:3746  \n",
       " Median :0.0000   Median :2857   Median :5608   Median :6287   Median :4681  \n",
       " Mean   :0.1318   Mean   :2680   Mean   :5345   Mean   :6052   Mean   :4550  \n",
       " 3rd Qu.:0.0375   3rd Qu.:3285   3rd Qu.:6760   3rd Qu.:7512   3rd Qu.:5692  \n",
       " Max.   :3.0300   Max.   :4960   Max.   :8239   Max.   :8873   Max.   :6582  \n",
       "                                                                             \n",
       "     total      \n",
       " Min.   : 2374  \n",
       " 1st Qu.:15705  \n",
       " Median :19367  \n",
       " Mean   :18628  \n",
       " 3rd Qu.:23152  \n",
       " Max.   :26969  \n",
       "                "
      ]
     },
     "metadata": {},
     "output_type": "display_data"
    },
    {
     "data": {
      "text/html": [
       "<dl class=dl-horizontal>\n",
       "\t<dt>date</dt>\n",
       "\t\t<dd>'Date'</dd>\n",
       "\t<dt>day</dt>\n",
       "\t\t<dd>'factor'</dd>\n",
       "\t<dt>temp_h</dt>\n",
       "\t\t<dd>'numeric'</dd>\n",
       "\t<dt>temp_l</dt>\n",
       "\t\t<dd>'numeric'</dd>\n",
       "\t<dt>precip</dt>\n",
       "\t\t<dd>'numeric'</dd>\n",
       "\t<dt>bb</dt>\n",
       "\t\t<dd>'numeric'</dd>\n",
       "\t<dt>mb</dt>\n",
       "\t\t<dd>'numeric'</dd>\n",
       "\t<dt>wb</dt>\n",
       "\t\t<dd>'numeric'</dd>\n",
       "\t<dt>qb</dt>\n",
       "\t\t<dd>'numeric'</dd>\n",
       "\t<dt>total</dt>\n",
       "\t\t<dd>'numeric'</dd>\n",
       "</dl>\n"
      ],
      "text/latex": [
       "\\begin{description*}\n",
       "\\item[date] 'Date'\n",
       "\\item[day] 'factor'\n",
       "\\item[temp\\textbackslash{}\\_h] 'numeric'\n",
       "\\item[temp\\textbackslash{}\\_l] 'numeric'\n",
       "\\item[precip] 'numeric'\n",
       "\\item[bb] 'numeric'\n",
       "\\item[mb] 'numeric'\n",
       "\\item[wb] 'numeric'\n",
       "\\item[qb] 'numeric'\n",
       "\\item[total] 'numeric'\n",
       "\\end{description*}\n"
      ],
      "text/markdown": [
       "date\n",
       ":   'Date'day\n",
       ":   'factor'temp_h\n",
       ":   'numeric'temp_l\n",
       ":   'numeric'precip\n",
       ":   'numeric'bb\n",
       ":   'numeric'mb\n",
       ":   'numeric'wb\n",
       ":   'numeric'qb\n",
       ":   'numeric'total\n",
       ":   'numeric'\n",
       "\n"
      ],
      "text/plain": [
       "     date       day    temp_h    temp_l    precip        bb        mb        wb \n",
       "   \"Date\"  \"factor\" \"numeric\" \"numeric\" \"numeric\" \"numeric\" \"numeric\" \"numeric\" \n",
       "       qb     total \n",
       "\"numeric\" \"numeric\" "
      ]
     },
     "metadata": {},
     "output_type": "display_data"
    },
    {
     "data": {
      "text/html": [
       "<table>\n",
       "<thead><tr><th scope=col>date</th><th scope=col>day</th><th scope=col>temp_h</th><th scope=col>temp_l</th><th scope=col>precip</th><th scope=col>bb</th><th scope=col>mb</th><th scope=col>wb</th><th scope=col>qb</th><th scope=col>total</th></tr></thead>\n",
       "<tbody>\n",
       "\t<tr><td>2017-04-01</td><td>Saturday  </td><td>46.0      </td><td>37        </td><td>0.00      </td><td> 606      </td><td>1446      </td><td>1915      </td><td>1430      </td><td> 5397     </td></tr>\n",
       "\t<tr><td>2017-04-02</td><td>Sunday    </td><td>62.1      </td><td>41        </td><td>0.00      </td><td>2021      </td><td>3943      </td><td>4207      </td><td>2862      </td><td>13033     </td></tr>\n",
       "\t<tr><td>2017-04-03</td><td>Monday    </td><td>63.0      </td><td>50        </td><td>0.03      </td><td>2470      </td><td>4988      </td><td>5178      </td><td>3689      </td><td>16325     </td></tr>\n",
       "\t<tr><td>2017-04-04</td><td>Tuesday   </td><td>51.1      </td><td>46        </td><td>1.18      </td><td> 723      </td><td>1913      </td><td>2279      </td><td>1666      </td><td> 6581     </td></tr>\n",
       "\t<tr><td>2017-04-05</td><td>Wednesday </td><td>63.0      </td><td>46        </td><td>0.00      </td><td>2807      </td><td>5276      </td><td>5711      </td><td>4197      </td><td>17991     </td></tr>\n",
       "\t<tr><td>2017-04-06</td><td>Thursday  </td><td>48.9      </td><td>41        </td><td>0.73      </td><td> 461      </td><td>1324      </td><td>1739      </td><td>1372      </td><td> 4896     </td></tr>\n",
       "</tbody>\n",
       "</table>\n"
      ],
      "text/latex": [
       "\\begin{tabular}{r|llllllllll}\n",
       " date & day & temp\\_h & temp\\_l & precip & bb & mb & wb & qb & total\\\\\n",
       "\\hline\n",
       "\t 2017-04-01 & Saturday   & 46.0       & 37         & 0.00       &  606       & 1446       & 1915       & 1430       &  5397     \\\\\n",
       "\t 2017-04-02 & Sunday     & 62.1       & 41         & 0.00       & 2021       & 3943       & 4207       & 2862       & 13033     \\\\\n",
       "\t 2017-04-03 & Monday     & 63.0       & 50         & 0.03       & 2470       & 4988       & 5178       & 3689       & 16325     \\\\\n",
       "\t 2017-04-04 & Tuesday    & 51.1       & 46         & 1.18       &  723       & 1913       & 2279       & 1666       &  6581     \\\\\n",
       "\t 2017-04-05 & Wednesday  & 63.0       & 46         & 0.00       & 2807       & 5276       & 5711       & 4197       & 17991     \\\\\n",
       "\t 2017-04-06 & Thursday   & 48.9       & 41         & 0.73       &  461       & 1324       & 1739       & 1372       &  4896     \\\\\n",
       "\\end{tabular}\n"
      ],
      "text/markdown": [
       "\n",
       "| date | day | temp_h | temp_l | precip | bb | mb | wb | qb | total |\n",
       "|---|---|---|---|---|---|---|---|---|---|\n",
       "| 2017-04-01 | Saturday   | 46.0       | 37         | 0.00       |  606       | 1446       | 1915       | 1430       |  5397      |\n",
       "| 2017-04-02 | Sunday     | 62.1       | 41         | 0.00       | 2021       | 3943       | 4207       | 2862       | 13033      |\n",
       "| 2017-04-03 | Monday     | 63.0       | 50         | 0.03       | 2470       | 4988       | 5178       | 3689       | 16325      |\n",
       "| 2017-04-04 | Tuesday    | 51.1       | 46         | 1.18       |  723       | 1913       | 2279       | 1666       |  6581      |\n",
       "| 2017-04-05 | Wednesday  | 63.0       | 46         | 0.00       | 2807       | 5276       | 5711       | 4197       | 17991      |\n",
       "| 2017-04-06 | Thursday   | 48.9       | 41         | 0.73       |  461       | 1324       | 1739       | 1372       |  4896      |\n",
       "\n"
      ],
      "text/plain": [
       "  date       day       temp_h temp_l precip bb   mb   wb   qb   total\n",
       "1 2017-04-01 Saturday  46.0   37     0.00    606 1446 1915 1430  5397\n",
       "2 2017-04-02 Sunday    62.1   41     0.00   2021 3943 4207 2862 13033\n",
       "3 2017-04-03 Monday    63.0   50     0.03   2470 4988 5178 3689 16325\n",
       "4 2017-04-04 Tuesday   51.1   46     1.18    723 1913 2279 1666  6581\n",
       "5 2017-04-05 Wednesday 63.0   46     0.00   2807 5276 5711 4197 17991\n",
       "6 2017-04-06 Thursday  48.9   41     0.73    461 1324 1739 1372  4896"
      ]
     },
     "metadata": {},
     "output_type": "display_data"
    }
   ],
   "source": [
    "#wrangle the data\n",
    "bike = bike %>%\n",
    "    mutate(temp_h = as.numeric(temp_h),temp_l = as.numeric(temp_l)) %>%\n",
    "    mutate(mb = as.numeric(as.character(mb)),bb = as.numeric(as.character(bb)), \n",
    "           wb = as.numeric(as.character(wb)), qb = as.numeric(as.character(qb)),\n",
    "           total = as.numeric(as.character(total))) %>%\n",
    "    mutate(date = as.Date(as.character(date),format='%m/%d')) %>%\n",
    "    mutate(precip = as.numeric(as.character(precip)))\n",
    "           \n",
    "#fix the year of the date variable\n",
    "bike$date = ymd(as.character(bike$date)) - years(3)\n",
    "\n",
    "#summarize and confirm data types\n",
    "summary(bike)\n",
    "sapply(bike, class)\n",
    "head(bike)"
   ]
  },
  {
   "cell_type": "markdown",
   "metadata": {},
   "source": [
    "Now, we see that each variable is stored correctly. "
   ]
  },
  {
   "cell_type": "markdown",
   "metadata": {},
   "source": [
    "For predictive performance purposes, let's split the data into a training set - on which we'll fit the model - and a testing set - on which we'll make \"out of sample\" predictions\". Let's train the model on 80\\% of the data, and save about 20\\% for validation."
   ]
  },
  {
   "cell_type": "code",
   "execution_count": 4,
   "metadata": {
    "scrolled": false
   },
   "outputs": [],
   "source": [
    "set.seed(8585)\n",
    "bound = floor(nrow(bike)*0.8) #define % of training and test set\n",
    "\n",
    "df = bike[sample(nrow(bike)), ]       #sample rows \n",
    "df_train = df[1:bound, ]              #get training set\n",
    "df_test = df[(bound+1):nrow(bike), ]  #get test set"
   ]
  },
  {
   "cell_type": "markdown",
   "metadata": {},
   "source": [
    "Let's fit a Poisson regression model on the data!"
   ]
  },
  {
   "cell_type": "code",
   "execution_count": 5,
   "metadata": {
    "scrolled": false
   },
   "outputs": [
    {
     "data": {
      "text/plain": [
       "\n",
       "Call:\n",
       "glm(formula = mb ~ precip + temp_h + temp_l + day, family = poisson, \n",
       "    data = df_train)\n",
       "\n",
       "Deviance Residuals: \n",
       "    Min       1Q   Median       3Q      Max  \n",
       "-41.577   -7.122    2.309    8.523   38.973  \n",
       "\n",
       "Coefficients:\n",
       "               Estimate Std. Error z value Pr(>|z|)    \n",
       "(Intercept)   7.7605007  0.0088089  880.98   <2e-16 ***\n",
       "precip       -0.6733753  0.0049519 -135.98   <2e-16 ***\n",
       "temp_h        0.0232326  0.0002333   99.59   <2e-16 ***\n",
       "temp_l       -0.0139666  0.0002524  -55.34   <2e-16 ***\n",
       "dayMonday     0.0758621  0.0038756   19.57   <2e-16 ***\n",
       "daySaturday  -0.1993917  0.0042215  -47.23   <2e-16 ***\n",
       "daySunday    -0.2618583  0.0043404  -60.33   <2e-16 ***\n",
       "dayThursday   0.0999425  0.0038607   25.89   <2e-16 ***\n",
       "dayTuesday    0.1419263  0.0038452   36.91   <2e-16 ***\n",
       "dayWednesday  0.1580572  0.0038413   41.15   <2e-16 ***\n",
       "---\n",
       "Signif. codes:  0 ‘***’ 0.001 ‘**’ 0.01 ‘*’ 0.05 ‘.’ 0.1 ‘ ’ 1\n",
       "\n",
       "(Dispersion parameter for poisson family taken to be 1)\n",
       "\n",
       "    Null deviance: 110729  on 170  degrees of freedom\n",
       "Residual deviance:  34454  on 161  degrees of freedom\n",
       "AIC: 36242\n",
       "\n",
       "Number of Fisher Scoring iterations: 4\n"
      ]
     },
     "metadata": {},
     "output_type": "display_data"
    },
    {
     "name": "stdout",
     "output_type": "stream",
     "text": [
      "If precipitation is increased by one inch, we would expect the mean number of bikes across the manhattan bridge to be multiplied by 0.5099843"
     ]
    }
   ],
   "source": [
    "glm_bike = glm(mb ~ precip + temp_h + temp_l + day, data = df_train, family = poisson)\n",
    "summary(glm_bike)\n",
    "cat(\"If precipitation is increased by one inch, we would expect the mean number of bikes across the manhattan bridge to be multiplied by\", \n",
    "    exp(coef(glm_bike)[2]))"
   ]
  },
  {
   "cell_type": "markdown",
   "metadata": {},
   "source": [
    "This is helpful, but we might want to be more fine-grained in our interpretation. A one inch increase in precipitation can be a lot. Perhaps we'd want to know what a one standard deviation increase would look like. To do so, let's scale the data, and note the standard deviation of the precipitation variable (in the training set):"
   ]
  },
  {
   "cell_type": "code",
   "execution_count": 6,
   "metadata": {},
   "outputs": [
    {
     "name": "stdout",
     "output_type": "stream",
     "text": [
      "The standard deviation of precipitation is 0.3755631 ."
     ]
    }
   ],
   "source": [
    "cat(\"The standard deviation of precipitation is\", sd(df_train$precip),\".\")\n",
    "df_train_scale = df_train %>% mutate_at(c(\"precip\", \"temp_h\", \"temp_l\"), scale)"
   ]
  },
  {
   "cell_type": "code",
   "execution_count": 7,
   "metadata": {},
   "outputs": [
    {
     "data": {
      "text/html": [
       "<dl class=dl-horizontal>\n",
       "\t<dt>(Intercept)</dt>\n",
       "\t\t<dd>8.5214006831787</dd>\n",
       "\t<dt>precip</dt>\n",
       "\t\t<dd>-0.252894897252218</dd>\n",
       "\t<dt>temp_h</dt>\n",
       "\t\t<dd>0.237264729556711</dd>\n",
       "\t<dt>temp_l</dt>\n",
       "\t\t<dd>-0.128276909705293</dd>\n",
       "\t<dt>dayMonday</dt>\n",
       "\t\t<dd>0.0758620891615058</dd>\n",
       "\t<dt>daySaturday</dt>\n",
       "\t\t<dd>-0.199391723214535</dd>\n",
       "\t<dt>daySunday</dt>\n",
       "\t\t<dd>-0.261858265426247</dd>\n",
       "\t<dt>dayThursday</dt>\n",
       "\t\t<dd>0.099942531929625</dd>\n",
       "\t<dt>dayTuesday</dt>\n",
       "\t\t<dd>0.141926290043044</dd>\n",
       "\t<dt>dayWednesday</dt>\n",
       "\t\t<dd>0.158057155721601</dd>\n",
       "</dl>\n"
      ],
      "text/latex": [
       "\\begin{description*}\n",
       "\\item[(Intercept)] 8.5214006831787\n",
       "\\item[precip] -0.252894897252218\n",
       "\\item[temp\\textbackslash{}\\_h] 0.237264729556711\n",
       "\\item[temp\\textbackslash{}\\_l] -0.128276909705293\n",
       "\\item[dayMonday] 0.0758620891615058\n",
       "\\item[daySaturday] -0.199391723214535\n",
       "\\item[daySunday] -0.261858265426247\n",
       "\\item[dayThursday] 0.099942531929625\n",
       "\\item[dayTuesday] 0.141926290043044\n",
       "\\item[dayWednesday] 0.158057155721601\n",
       "\\end{description*}\n"
      ],
      "text/markdown": [
       "(Intercept)\n",
       ":   8.5214006831787precip\n",
       ":   -0.252894897252218temp_h\n",
       ":   0.237264729556711temp_l\n",
       ":   -0.128276909705293dayMonday\n",
       ":   0.0758620891615058daySaturday\n",
       ":   -0.199391723214535daySunday\n",
       ":   -0.261858265426247dayThursday\n",
       ":   0.099942531929625dayTuesday\n",
       ":   0.141926290043044dayWednesday\n",
       ":   0.158057155721601\n",
       "\n"
      ],
      "text/plain": [
       " (Intercept)       precip       temp_h       temp_l    dayMonday  daySaturday \n",
       "  8.52140068  -0.25289490   0.23726473  -0.12827691   0.07586209  -0.19939172 \n",
       "   daySunday  dayThursday   dayTuesday dayWednesday \n",
       " -0.26185827   0.09994253   0.14192629   0.15805716 "
      ]
     },
     "metadata": {},
     "output_type": "display_data"
    },
    {
     "name": "stdout",
     "output_type": "stream",
     "text": [
      "Assuming the model is correct, if precipitation is increased byone standard deviation (0.38 inches), we would expect the mean number of bikes across the manhattan bridge to be multiplied by 0.7765495 adjusting for tempteratures, and day of week."
     ]
    }
   ],
   "source": [
    "glm_bike_scale = glm(mb ~ precip + temp_h + temp_l + day, data = df_train_scale, family = poisson)\n",
    "coef(glm_bike_scale)\n",
    "cat(paste0(\"Assuming the model is correct, if precipitation is increased by\",\n",
    "           \"one standard deviation (0.38 inches), we would expect the mean \",\n",
    "           \"number of bikes across the manhattan bridge to be multiplied by\"), \n",
    "    exp(coef(glm_bike_scale)[2]),\"adjusting for tempteratures, and day of week.\")"
   ]
  },
  {
   "cell_type": "markdown",
   "metadata": {},
   "source": [
    "Of course, we have not yet studied whether this model is correct. One simple assessment that we can look at is a plot of the predicted values ($\\widehat\\mu$) vs the true values for either the training set, or the the out-of-sample (test) set. In the training set, we see points aligning along $y=x$, but with some variability, suggesting that the fit could be better."
   ]
  },
  {
   "cell_type": "code",
   "execution_count": 8,
   "metadata": {},
   "outputs": [
    {
     "data": {
      "image/png": "[encoded data removed]",
      "text/plain": [
       "plot without title"
      ]
     },
     "metadata": {},
     "output_type": "display_data"
    }
   ],
   "source": [
    "n_train = length(df_train$mb)\n",
    "n_test = length(df_test$mb)\n",
    "\n",
    "mu_train = predict(glm_bike, df_train, type=\"response\")\n",
    "y_train = df_train$mb\n",
    "\n",
    "options(repr.plot.width = 5, repr.plot.height = 5)\n",
    "df_test_predict = data.frame(y_train, mu_train)\n",
    "p = ggplot(df_test_predict) + geom_point(aes(y_train, mu_train))\n",
    "p = p + theme_bw()\n",
    "p = p + xlab(\"True Values\") + ylab(\"Predicted Values\")\n",
    "p"
   ]
  },
  {
   "cell_type": "markdown",
   "metadata": {},
   "source": [
    "The same plot on the test set shows a bit more variability, further suggesting that the model fit is less than optimal."
   ]
  },
  {
   "cell_type": "code",
   "execution_count": 9,
   "metadata": {
    "scrolled": false
   },
   "outputs": [
    {
     "data": {
      "image/png": "[encoded data removed]",
      "text/plain": [
       "plot without title"
      ]
     },
     "metadata": {},
     "output_type": "display_data"
    }
   ],
   "source": [
    "n_train = length(df_train$mb)\n",
    "n_test = length(df_test$mb)\n",
    "\n",
    "mu_test = predict(glm_bike, df_test, type=\"response\")\n",
    "y_test = df_test$mb\n",
    "\n",
    "options(repr.plot.width = 5, repr.plot.height = 5)\n",
    "df_test_predict = data.frame(y_test, mu_test)\n",
    "p = ggplot(df_test_predict) + geom_point(aes(y_test, mu_test))\n",
    "p = p + theme_bw()\n",
    "p = p + xlab(\"True Values\") + ylab(\"Predicted Values\")\n",
    "p"
   ]
  },
  {
   "cell_type": "code",
   "execution_count": null,
   "metadata": {},
   "outputs": [],
   "source": []
  }
 ],
 "metadata": {
  "kernelspec": {
   "display_name": "R",
   "language": "R",
   "name": "ir"
  },
  "language_info": {
   "codemirror_mode": "r",
   "file_extension": ".r",
   "mimetype": "text/x-r-source",
   "name": "R",
   "pygments_lexer": "r",
   "version": "3.6.1"
  }
 },
 "nbformat": 4,
 "nbformat_minor": 2
}
